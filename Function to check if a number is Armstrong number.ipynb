{
 "cells": [
  {
   "cell_type": "markdown",
   "metadata": {},
   "source": [
    "## Check if a number is Armstrong number or not\n",
    "\n",
    "Steps:\n",
    "* Take the input number from the user\n",
    "* Store the individual digits in a list\n",
    "* Loop in the list to sum the cubes of all digits\n",
    "* Check and return if the number is Armstrong or not\n"
   ]
  },
  {
   "cell_type": "code",
   "execution_count": 1,
   "metadata": {},
   "outputs": [
    {
     "name": "stdout",
     "output_type": "stream",
     "text": [
      "Enter the number to check:45\n",
      "45 is not an Armstrong number\n",
      "[5, 4]\n"
     ]
    }
   ],
   "source": [
    "number = int(input(\"Enter the number to check:\"))\n",
    "\n",
    "# Find individual numbers and sum of their cubes\n",
    "individual_numbers = []\n",
    "\n",
    "num=number\n",
    "while num>9:\n",
    "    remainder=num%10 # Last digit\n",
    "    individual_numbers.append(remainder)\n",
    "    num = num//10\n",
    "individual_numbers.append(num)\n",
    "\n",
    "sum_cubes = 0\n",
    "for item in individual_numbers:\n",
    "    sum_cubes += item**3\n",
    "\n",
    "if number == sum_cubes:\n",
    "    print(f\"{number} is an Armstrong number\")\n",
    "else:\n",
    "    print(f\"{number} is not an Armstrong number\")\n",
    "\n",
    "print(individual_numbers)"
   ]
  },
  {
   "cell_type": "code",
   "execution_count": null,
   "metadata": {},
   "outputs": [],
   "source": []
  }
 ],
 "metadata": {
  "kernelspec": {
   "display_name": "Python 3",
   "language": "python",
   "name": "python3"
  },
  "language_info": {
   "codemirror_mode": {
    "name": "ipython",
    "version": 3
   },
   "file_extension": ".py",
   "mimetype": "text/x-python",
   "name": "python",
   "nbconvert_exporter": "python",
   "pygments_lexer": "ipython3",
   "version": "3.8.3"
  }
 },
 "nbformat": 4,
 "nbformat_minor": 4
}
